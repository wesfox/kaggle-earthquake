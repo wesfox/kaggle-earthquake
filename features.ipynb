{
 "cells": [
  {
   "cell_type": "code",
   "execution_count": null,
   "metadata": {},
   "outputs": [],
   "source": [
    "import pandas as pd\n",
    "from matplotlib import pyplot as plt\n",
    "from tqdm import tqdm\n",
    "import numpy as np\n",
    "from sklearn.preprocessing import StandardScaler\n",
    "from sklearn.svm import NuSVR\n",
    "from sklearn.metrics import mean_absolute_error\n",
    "from scipy.stats import kurtosis\n",
    "\n",
    "\n",
    "data = pd.read_csv(\"data/train_small.csv\")\n",
    "plt.plot(data['time_to_failure'],data['acoustic_data'])\n",
    "plt.show()\n",
    "\n",
    "data.shape\n"
   ]
  },
  {
   "cell_type": "code",
   "execution_count": null,
   "metadata": {},
   "outputs": [],
   "source": [
    "def load_data(file_name):\n",
    "    data = pd.read_csv(file_name,dtype={'acoustic_data': np.int16, 'time_to_failure': np.float64})\n",
    "    return data"
   ]
  },
  {
   "cell_type": "code",
   "execution_count": null,
   "metadata": {},
   "outputs": [],
   "source": [
    "def preproc_data(data, rows=65_536, ratio=0.8):\n",
    "    # create the segments (each row gets a segment value), no need to randomize\n",
    "    segments = int(np.floor(data.shape[0] / rows))\n",
    "    \n",
    "    # first, create dataframes for X and Y\n",
    "    X = pd.DataFrame(index=range(segments), dtype=np.float64,\n",
    "                       columns=['ave', 'std','kurt', 'max', 'min','abs_max',\n",
    "                                'quantile_095','quantile_099','quantile_09',\n",
    "                                'quantile_01','quantile_005','quantile_001'])\n",
    "    Y = pd.DataFrame(index=range(segments), dtype=np.float64,\n",
    "                           columns=['time_to_failure'])\n",
    "    \n",
    "    # split the datasettt into segments to perform agregation calculation on them \n",
    "    # should be overlaping segments\n",
    "    for segment in tqdm(range(segments)):\n",
    "        seg = data.iloc[segment*rows:segment*rows+rows]\n",
    "        x = seg['acoustic_data'].values\n",
    "        y = seg['time_to_failure'].values[-1]\n",
    "        \n",
    "        # time to failure \n",
    "        Y.loc[segment, 'time_to_failure'] = y\n",
    "        \n",
    "        # all our features\n",
    "        X.loc[segment, 'ave'] = x.mean()\n",
    "        X.loc[segment, 'kurt'] = kurtosis(x)\n",
    "        X.loc[segment, 'quantile_095'] = np.quantile(x,0.95)\n",
    "        X.loc[segment, 'quantile_099'] = np.quantile(x,0.99)\n",
    "        X.loc[segment, 'quantile_09'] = np.quantile(x,0.9)\n",
    "        X.loc[segment, 'quantile_01'] = np.quantile(x,0.1)\n",
    "        X.loc[segment, 'quantile_005'] = np.quantile(x,0.05)\n",
    "        X.loc[segment, 'quantile_001'] = np.quantile(x,0.01)\n",
    "        X.loc[segment, 'std'] = x.std()\n",
    "        X.loc[segment, 'max'] = x.max()\n",
    "        X.loc[segment, 'min'] = x.min()\n",
    "        X.loc[segment, 'abs_max'] = abs(x).max()\n",
    "    \n",
    "    train_test_cut_id = int(len(X)*ratio)\n",
    "    return X[:train_test_cut_id], Y[:train_test_cut_id], X[train_test_cut_id:], Y[train_test_cut_id:]"
   ]
  },
  {
   "cell_type": "code",
   "execution_count": null,
   "metadata": {},
   "outputs": [],
   "source": [
    "if False:\n",
    "    data = load_data('data/train.csv')"
   ]
  },
  {
   "cell_type": "code",
   "execution_count": null,
   "metadata": {},
   "outputs": [],
   "source": [
    "X_train, Y_train, X_test, Y_test = preproc_data(data)\n",
    "X_train.shape"
   ]
  },
  {
   "cell_type": "code",
   "execution_count": null,
   "metadata": {},
   "outputs": [],
   "source": [
    "scaler = StandardScaler()\n",
    "scaler.fit(X_train)\n",
    "X_train_scaled = scaler.transform(X_train)\n",
    "X_test_scaled = scaler.transform(X_test)"
   ]
  },
  {
   "cell_type": "code",
   "execution_count": null,
   "metadata": {},
   "outputs": [],
   "source": [
    "def mean(array, step):\n",
    "    array_len= len(array)\n",
    "    array_mean = list(array[:])\n",
    "    mean_step = step\n",
    "    for i in range(mean_step,array_len):\n",
    "        array_mean[i] = sum([array[i-j] for j in range(mean_step)])/mean_step\n",
    "    return array_mean"
   ]
  },
  {
   "cell_type": "code",
   "execution_count": null,
   "metadata": {},
   "outputs": [],
   "source": [
    "svm = NuSVR()\n",
    "svm.fit(X_train_scaled, Y_train.values.flatten())\n",
    "y_pred = svm.predict(X_test_scaled)"
   ]
  },
  {
   "cell_type": "code",
   "execution_count": null,
   "metadata": {},
   "outputs": [],
   "source": [
    "plt.plot(y_pred)\n",
    "plt.plot(Y_test)\n",
    "plt.show()"
   ]
  },
  {
   "cell_type": "code",
   "execution_count": null,
   "metadata": {},
   "outputs": [],
   "source": [
    "plt.figure(figsize=(6, 6))\n",
    "plt.scatter(Y_train.values.flatten(), y_pred)\n",
    "plt.xlim(0, 20)\n",
    "plt.ylim(0, 20)\n",
    "plt.xlabel('actual', fontsize=12)\n",
    "plt.ylabel('predicted', fontsize=12)\n",
    "plt.plot([(0, 0), (20, 20)], [(0, 0), (20, 20)])\n",
    "plt.show()"
   ]
  },
  {
   "cell_type": "code",
   "execution_count": null,
   "metadata": {},
   "outputs": [],
   "source": [
    "for i in range(1,20):\n",
    "    y_pred_mean = mean(y_pred,i)\n",
    "    score = mean_absolute_error(Y_test.values.flatten(), y_pred_mean)\n",
    "    print(f'mean: {i}, Score: {score:0.3f}')"
   ]
  },
  {
   "cell_type": "code",
   "execution_count": null,
   "metadata": {},
   "outputs": [],
   "source": [
    "y_pred_mean = mean(y_pred,13)\n",
    "plt.plot(y_pred_mean)"
   ]
  },
  {
   "cell_type": "code",
   "execution_count": null,
   "metadata": {},
   "outputs": [],
   "source": [
    "# without quantile : 2.202, 2.031 (8)\n",
    "# with 5 quantiles : 2.171, 2.023 (8)\n",
    "\n"
   ]
  }
 ],
 "metadata": {
  "language_info": {
   "name": "python",
   "pygments_lexer": "ipython3"
  }
 },
 "nbformat": 4,
 "nbformat_minor": 2
}
